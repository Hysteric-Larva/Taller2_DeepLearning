{
  "nbformat": 4,
  "nbformat_minor": 0,
  "metadata": {
    "colab": {
      "name": "Taller 2 - Mateneuronas.ipynb",
      "provenance": [],
      "collapsed_sections": []
    },
    "kernelspec": {
      "name": "python3",
      "display_name": "Python 3"
    },
    "accelerator": "GPU"
  },
  "cells": [
    {
      "cell_type": "code",
      "metadata": {
        "id": "ysrWgs3nEqs8",
        "colab_type": "code",
        "colab": {
          "base_uri": "https://localhost:8080/",
          "height": 357
        },
        "outputId": "109265a6-6f42-4937-d874-e7eafbe3621e"
      },
      "source": [
        "!nvidia-smi"
      ],
      "execution_count": null,
      "outputs": [
        {
          "output_type": "stream",
          "text": [
            "Sun Jul 12 03:34:16 2020       \n",
            "+-----------------------------------------------------------------------------+\n",
            "| NVIDIA-SMI 450.36.06    Driver Version: 418.67       CUDA Version: 10.1     |\n",
            "|-------------------------------+----------------------+----------------------+\n",
            "| GPU  Name        Persistence-M| Bus-Id        Disp.A | Volatile Uncorr. ECC |\n",
            "| Fan  Temp  Perf  Pwr:Usage/Cap|         Memory-Usage | GPU-Util  Compute M. |\n",
            "|                               |                      |               MIG M. |\n",
            "|===============================+======================+======================|\n",
            "|   0  Tesla P100-PCIE...  Off  | 00000000:00:04.0 Off |                    0 |\n",
            "| N/A   41C    P0    28W / 250W |      0MiB / 16280MiB |      0%      Default |\n",
            "|                               |                      |                 ERR! |\n",
            "+-------------------------------+----------------------+----------------------+\n",
            "                                                                               \n",
            "+-----------------------------------------------------------------------------+\n",
            "| Processes:                                                                  |\n",
            "|  GPU   GI   CI        PID   Type   Process name                  GPU Memory |\n",
            "|        ID   ID                                                   Usage      |\n",
            "|=============================================================================|\n",
            "|  No running processes found                                                 |\n",
            "+-----------------------------------------------------------------------------+\n"
          ],
          "name": "stdout"
        }
      ]
    },
    {
      "cell_type": "code",
      "metadata": {
        "id": "F7XFrjZiDpxb",
        "colab_type": "code",
        "colab": {}
      },
      "source": [
        "import numpy as np\n",
        "import pandas as pd\n",
        "import seaborn as sns\n",
        "from sklearn.preprocessing import LabelEncoder, OneHotEncoder\n",
        "import tensorflow as tf\n",
        "from tensorflow.keras.preprocessing.text import Tokenizer\n",
        "from tensorflow.keras.models import Sequential, load_model\n",
        "from tensorflow.keras.layers import Dense, Dropout, Activation, Flatten, Conv2D, MaxPooling2D, BatchNormalization, LSTM\n",
        "import tensorflow_hub as hub"
      ],
      "execution_count": null,
      "outputs": []
    },
    {
      "cell_type": "markdown",
      "metadata": {
        "id": "daZWPWkGEyiI",
        "colab_type": "text"
      },
      "source": [
        "# Carga de datos"
      ]
    },
    {
      "cell_type": "code",
      "metadata": {
        "id": "OM7WuIfEExTt",
        "colab_type": "code",
        "colab": {
          "base_uri": "https://localhost:8080/",
          "height": 419
        },
        "outputId": "b3cbd6df-96e9-4346-b4a5-e8e72ce470ad"
      },
      "source": [
        "train_labels = pd.read_csv('/content/drive/My Drive/Colab Notebooks/Redes Neuronales/data_taller_2/train_labels.csv')\n",
        "\n",
        "l_text = []\n",
        "\n",
        "for i in range(train_labels.shape[0]):\n",
        "    ID = train_labels['id'][i] \n",
        "    train_source = open('/content/drive/My Drive/Colab Notebooks/Redes Neuronales/data_taller_2/train_source_tweets.txt','r')\n",
        "    for linea in train_source: \n",
        "        if str(ID) == linea.split()[0]:\n",
        "            t = linea.split()[1:]\n",
        "            text = ''\n",
        "            for p in t:\n",
        "                text += p+' '\n",
        "            l_text.append(text)\n",
        "            break\n",
        "    train_source.close()\n",
        "    \n",
        "train_labels['text'] = l_text\n",
        "train_labels"
      ],
      "execution_count": null,
      "outputs": [
        {
          "output_type": "execute_result",
          "data": {
            "text/html": [
              "<div>\n",
              "<style scoped>\n",
              "    .dataframe tbody tr th:only-of-type {\n",
              "        vertical-align: middle;\n",
              "    }\n",
              "\n",
              "    .dataframe tbody tr th {\n",
              "        vertical-align: top;\n",
              "    }\n",
              "\n",
              "    .dataframe thead th {\n",
              "        text-align: right;\n",
              "    }\n",
              "</style>\n",
              "<table border=\"1\" class=\"dataframe\">\n",
              "  <thead>\n",
              "    <tr style=\"text-align: right;\">\n",
              "      <th></th>\n",
              "      <th>label</th>\n",
              "      <th>id</th>\n",
              "      <th>text</th>\n",
              "    </tr>\n",
              "  </thead>\n",
              "  <tbody>\n",
              "    <tr>\n",
              "      <th>0</th>\n",
              "      <td>non-rumor</td>\n",
              "      <td>692735698349199360</td>\n",
              "      <td>north korea 'planning some kind of rocket laun...</td>\n",
              "    </tr>\n",
              "    <tr>\n",
              "      <th>1</th>\n",
              "      <td>unverified</td>\n",
              "      <td>525008463819464704</td>\n",
              "      <td>meet kevin vickers, the hero who shot down the...</td>\n",
              "    </tr>\n",
              "    <tr>\n",
              "      <th>2</th>\n",
              "      <td>false</td>\n",
              "      <td>505611045897924608</td>\n",
              "      <td>15 year old who \"swatted\" gamer convicted of d...</td>\n",
              "    </tr>\n",
              "    <tr>\n",
              "      <th>3</th>\n",
              "      <td>non-rumor</td>\n",
              "      <td>693466724822323200</td>\n",
              "      <td>audio recordings reveal cpr started 11 minutes...</td>\n",
              "    </tr>\n",
              "    <tr>\n",
              "      <th>4</th>\n",
              "      <td>true</td>\n",
              "      <td>510922415468449792</td>\n",
              "      <td>awful mt @scclemons:uk aid worker david haines...</td>\n",
              "    </tr>\n",
              "    <tr>\n",
              "      <th>...</th>\n",
              "      <td>...</td>\n",
              "      <td>...</td>\n",
              "      <td>...</td>\n",
              "    </tr>\n",
              "    <tr>\n",
              "      <th>1921</th>\n",
              "      <td>true</td>\n",
              "      <td>515598200796090369</td>\n",
              "      <td>#workplace hero shoots #altonnolen #stabbings ...</td>\n",
              "    </tr>\n",
              "    <tr>\n",
              "      <th>1922</th>\n",
              "      <td>unverified</td>\n",
              "      <td>535257207991205888</td>\n",
              "      <td>russian boy shocked by electricity now claims ...</td>\n",
              "    </tr>\n",
              "    <tr>\n",
              "      <th>1923</th>\n",
              "      <td>true</td>\n",
              "      <td>524944399890124801</td>\n",
              "      <td>recap: gunman shot dead inside parliament buil...</td>\n",
              "    </tr>\n",
              "    <tr>\n",
              "      <th>1924</th>\n",
              "      <td>false</td>\n",
              "      <td>519965814175567872</td>\n",
              "      <td>a vandal painted a brilliantly simple penis on...</td>\n",
              "    </tr>\n",
              "    <tr>\n",
              "      <th>1925</th>\n",
              "      <td>true</td>\n",
              "      <td>523939598691741696</td>\n",
              "      <td>cool dog! mt @cbsnews: goliath encounter: pupp...</td>\n",
              "    </tr>\n",
              "  </tbody>\n",
              "</table>\n",
              "<p>1926 rows × 3 columns</p>\n",
              "</div>"
            ],
            "text/plain": [
              "           label  ...                                               text\n",
              "0      non-rumor  ...  north korea 'planning some kind of rocket laun...\n",
              "1     unverified  ...  meet kevin vickers, the hero who shot down the...\n",
              "2          false  ...  15 year old who \"swatted\" gamer convicted of d...\n",
              "3      non-rumor  ...  audio recordings reveal cpr started 11 minutes...\n",
              "4           true  ...  awful mt @scclemons:uk aid worker david haines...\n",
              "...          ...  ...                                                ...\n",
              "1921        true  ...  #workplace hero shoots #altonnolen #stabbings ...\n",
              "1922  unverified  ...  russian boy shocked by electricity now claims ...\n",
              "1923        true  ...  recap: gunman shot dead inside parliament buil...\n",
              "1924       false  ...  a vandal painted a brilliantly simple penis on...\n",
              "1925        true  ...  cool dog! mt @cbsnews: goliath encounter: pupp...\n",
              "\n",
              "[1926 rows x 3 columns]"
            ]
          },
          "metadata": {
            "tags": []
          },
          "execution_count": 8
        }
      ]
    },
    {
      "cell_type": "markdown",
      "metadata": {
        "id": "NMO8hDukE3HG",
        "colab_type": "text"
      },
      "source": [
        "# Encoder"
      ]
    },
    {
      "cell_type": "code",
      "metadata": {
        "id": "QGNCtYwiE1dk",
        "colab_type": "code",
        "colab": {
          "base_uri": "https://localhost:8080/",
          "height": 419
        },
        "outputId": "91c6a3ec-0bd4-4ca3-a20b-03689c9eda9a"
      },
      "source": [
        "sent_to_id = {\"false\":0, \"non-rumor\":1, \"true\":2, \"unverified\":3}\n",
        "train_labels[\"label_id\"] = train_labels['label'].map(sent_to_id)\n",
        "train_labels"
      ],
      "execution_count": null,
      "outputs": [
        {
          "output_type": "execute_result",
          "data": {
            "text/html": [
              "<div>\n",
              "<style scoped>\n",
              "    .dataframe tbody tr th:only-of-type {\n",
              "        vertical-align: middle;\n",
              "    }\n",
              "\n",
              "    .dataframe tbody tr th {\n",
              "        vertical-align: top;\n",
              "    }\n",
              "\n",
              "    .dataframe thead th {\n",
              "        text-align: right;\n",
              "    }\n",
              "</style>\n",
              "<table border=\"1\" class=\"dataframe\">\n",
              "  <thead>\n",
              "    <tr style=\"text-align: right;\">\n",
              "      <th></th>\n",
              "      <th>label</th>\n",
              "      <th>id</th>\n",
              "      <th>text</th>\n",
              "      <th>label_id</th>\n",
              "    </tr>\n",
              "  </thead>\n",
              "  <tbody>\n",
              "    <tr>\n",
              "      <th>0</th>\n",
              "      <td>non-rumor</td>\n",
              "      <td>692735698349199360</td>\n",
              "      <td>north korea 'planning some kind of rocket laun...</td>\n",
              "      <td>1</td>\n",
              "    </tr>\n",
              "    <tr>\n",
              "      <th>1</th>\n",
              "      <td>unverified</td>\n",
              "      <td>525008463819464704</td>\n",
              "      <td>meet kevin vickers, the hero who shot down the...</td>\n",
              "      <td>3</td>\n",
              "    </tr>\n",
              "    <tr>\n",
              "      <th>2</th>\n",
              "      <td>false</td>\n",
              "      <td>505611045897924608</td>\n",
              "      <td>15 year old who \"swatted\" gamer convicted of d...</td>\n",
              "      <td>0</td>\n",
              "    </tr>\n",
              "    <tr>\n",
              "      <th>3</th>\n",
              "      <td>non-rumor</td>\n",
              "      <td>693466724822323200</td>\n",
              "      <td>audio recordings reveal cpr started 11 minutes...</td>\n",
              "      <td>1</td>\n",
              "    </tr>\n",
              "    <tr>\n",
              "      <th>4</th>\n",
              "      <td>true</td>\n",
              "      <td>510922415468449792</td>\n",
              "      <td>awful mt @scclemons:uk aid worker david haines...</td>\n",
              "      <td>2</td>\n",
              "    </tr>\n",
              "    <tr>\n",
              "      <th>...</th>\n",
              "      <td>...</td>\n",
              "      <td>...</td>\n",
              "      <td>...</td>\n",
              "      <td>...</td>\n",
              "    </tr>\n",
              "    <tr>\n",
              "      <th>1921</th>\n",
              "      <td>true</td>\n",
              "      <td>515598200796090369</td>\n",
              "      <td>#workplace hero shoots #altonnolen #stabbings ...</td>\n",
              "      <td>2</td>\n",
              "    </tr>\n",
              "    <tr>\n",
              "      <th>1922</th>\n",
              "      <td>unverified</td>\n",
              "      <td>535257207991205888</td>\n",
              "      <td>russian boy shocked by electricity now claims ...</td>\n",
              "      <td>3</td>\n",
              "    </tr>\n",
              "    <tr>\n",
              "      <th>1923</th>\n",
              "      <td>true</td>\n",
              "      <td>524944399890124801</td>\n",
              "      <td>recap: gunman shot dead inside parliament buil...</td>\n",
              "      <td>2</td>\n",
              "    </tr>\n",
              "    <tr>\n",
              "      <th>1924</th>\n",
              "      <td>false</td>\n",
              "      <td>519965814175567872</td>\n",
              "      <td>a vandal painted a brilliantly simple penis on...</td>\n",
              "      <td>0</td>\n",
              "    </tr>\n",
              "    <tr>\n",
              "      <th>1925</th>\n",
              "      <td>true</td>\n",
              "      <td>523939598691741696</td>\n",
              "      <td>cool dog! mt @cbsnews: goliath encounter: pupp...</td>\n",
              "      <td>2</td>\n",
              "    </tr>\n",
              "  </tbody>\n",
              "</table>\n",
              "<p>1926 rows × 4 columns</p>\n",
              "</div>"
            ],
            "text/plain": [
              "           label  ...  label_id\n",
              "0      non-rumor  ...         1\n",
              "1     unverified  ...         3\n",
              "2          false  ...         0\n",
              "3      non-rumor  ...         1\n",
              "4           true  ...         2\n",
              "...          ...  ...       ...\n",
              "1921        true  ...         2\n",
              "1922  unverified  ...         3\n",
              "1923        true  ...         2\n",
              "1924       false  ...         0\n",
              "1925        true  ...         2\n",
              "\n",
              "[1926 rows x 4 columns]"
            ]
          },
          "metadata": {
            "tags": []
          },
          "execution_count": 9
        }
      ]
    },
    {
      "cell_type": "code",
      "metadata": {
        "id": "fSLM1g09E4YL",
        "colab_type": "code",
        "colab": {
          "base_uri": "https://localhost:8080/",
          "height": 136
        },
        "outputId": "5859e36b-4e46-4fb2-ddae-649f56031daf"
      },
      "source": [
        "label_encoder = LabelEncoder()\n",
        "integer_encoded = label_encoder.fit_transform(train_labels.label_id)\n",
        "onehot_encoder = OneHotEncoder(sparse=False)\n",
        "integer_encoded = integer_encoded.reshape(len(integer_encoded), 1)\n",
        "Y = onehot_encoder.fit_transform(integer_encoded)\n",
        "Y"
      ],
      "execution_count": null,
      "outputs": [
        {
          "output_type": "execute_result",
          "data": {
            "text/plain": [
              "array([[0., 1., 0., 0.],\n",
              "       [0., 0., 0., 1.],\n",
              "       [1., 0., 0., 0.],\n",
              "       ...,\n",
              "       [0., 0., 1., 0.],\n",
              "       [1., 0., 0., 0.],\n",
              "       [0., 0., 1., 0.]])"
            ]
          },
          "metadata": {
            "tags": []
          },
          "execution_count": 10
        }
      ]
    },
    {
      "cell_type": "markdown",
      "metadata": {
        "id": "ggFaoaZYE7o6",
        "colab_type": "text"
      },
      "source": [
        "# Modelo\n",
        "\n",
        "\n",
        "\n",
        "*   NNLM dim 128 https://tfhub.dev/google/nnlm-en-dim128-with-normalization/2\n",
        "*   NNLM dim 50 https://tfhub.dev/google/nnlm-en-dim50-with-normalization/2\n",
        "\n"
      ]
    },
    {
      "cell_type": "code",
      "metadata": {
        "id": "9n_UiL8WE8kr",
        "colab_type": "code",
        "colab": {
          "base_uri": "https://localhost:8080/",
          "height": 255
        },
        "outputId": "246eb878-1793-4a53-c62f-2fb5a2ad13a8"
      },
      "source": [
        "model = \"https://tfhub.dev/google/nnlm-en-dim128-with-normalization/2\"\n",
        "hub_layer = hub.KerasLayer(model, output_shape=[128], input_shape=[], \n",
        "                           dtype=tf.string, trainable=True)\n",
        "\n",
        "model = Sequential()\n",
        "model.add(hub_layer)\n",
        "model.add(Dense(16, activation='relu'))\n",
        "model.add(Dense(4, activation='softmax'))\n",
        "\n",
        "model.compile(optimizer='adam',\n",
        "              loss='categorical_crossentropy',\n",
        "              metrics=['accuracy'])\n",
        "\n",
        "model.summary()"
      ],
      "execution_count": null,
      "outputs": [
        {
          "output_type": "stream",
          "text": [
            "Model: \"sequential\"\n",
            "_________________________________________________________________\n",
            "Layer (type)                 Output Shape              Param #   \n",
            "=================================================================\n",
            "keras_layer (KerasLayer)     (None, 128)               124642688 \n",
            "_________________________________________________________________\n",
            "dense (Dense)                (None, 16)                2064      \n",
            "_________________________________________________________________\n",
            "dense_1 (Dense)              (None, 4)                 68        \n",
            "=================================================================\n",
            "Total params: 124,644,820\n",
            "Trainable params: 124,644,820\n",
            "Non-trainable params: 0\n",
            "_________________________________________________________________\n"
          ],
          "name": "stdout"
        }
      ]
    },
    {
      "cell_type": "markdown",
      "metadata": {
        "id": "hfZu0ECvFARL",
        "colab_type": "text"
      },
      "source": [
        "# Entrenamiento"
      ]
    },
    {
      "cell_type": "code",
      "metadata": {
        "id": "G1k75tp6E_pi",
        "colab_type": "code",
        "colab": {
          "base_uri": "https://localhost:8080/",
          "height": 357
        },
        "outputId": "e38183d8-e6bc-4772-f368-269325b6b1cb"
      },
      "source": [
        "X = train_labels['text']\n",
        "history = model.fit(X, Y, epochs=10, batch_size=32, validation_split=0.25, verbose=1)"
      ],
      "execution_count": null,
      "outputs": [
        {
          "output_type": "stream",
          "text": [
            "Epoch 1/10\n",
            "46/46 [==============================] - 2s 40ms/step - loss: 1.3284 - accuracy: 0.3927 - val_loss: 1.2603 - val_accuracy: 0.5207\n",
            "Epoch 2/10\n",
            "46/46 [==============================] - 2s 35ms/step - loss: 1.0695 - accuracy: 0.6988 - val_loss: 1.0383 - val_accuracy: 0.6743\n",
            "Epoch 3/10\n",
            "46/46 [==============================] - 2s 35ms/step - loss: 0.7101 - accuracy: 0.8663 - val_loss: 0.8159 - val_accuracy: 0.7552\n",
            "Epoch 4/10\n",
            "46/46 [==============================] - 2s 35ms/step - loss: 0.3674 - accuracy: 0.9591 - val_loss: 0.6602 - val_accuracy: 0.7801\n",
            "Epoch 5/10\n",
            "46/46 [==============================] - 2s 35ms/step - loss: 0.1586 - accuracy: 0.9896 - val_loss: 0.5895 - val_accuracy: 0.7988\n",
            "Epoch 6/10\n",
            "46/46 [==============================] - 2s 35ms/step - loss: 0.0725 - accuracy: 0.9972 - val_loss: 0.5670 - val_accuracy: 0.8174\n",
            "Epoch 7/10\n",
            "46/46 [==============================] - 2s 35ms/step - loss: 0.0390 - accuracy: 0.9986 - val_loss: 0.5642 - val_accuracy: 0.8112\n",
            "Epoch 8/10\n",
            "46/46 [==============================] - 2s 35ms/step - loss: 0.0244 - accuracy: 0.9993 - val_loss: 0.5652 - val_accuracy: 0.8112\n",
            "Epoch 9/10\n",
            "46/46 [==============================] - 2s 35ms/step - loss: 0.0167 - accuracy: 1.0000 - val_loss: 0.5689 - val_accuracy: 0.8133\n",
            "Epoch 10/10\n",
            "46/46 [==============================] - 2s 35ms/step - loss: 0.0120 - accuracy: 1.0000 - val_loss: 0.5736 - val_accuracy: 0.8133\n"
          ],
          "name": "stdout"
        }
      ]
    },
    {
      "cell_type": "markdown",
      "metadata": {
        "id": "Ll7o83lWFEfu",
        "colab_type": "text"
      },
      "source": [
        "# Predictions"
      ]
    },
    {
      "cell_type": "code",
      "metadata": {
        "id": "jXxchWZQFCV3",
        "colab_type": "code",
        "colab": {
          "base_uri": "https://localhost:8080/",
          "height": 204
        },
        "outputId": "aaef3d48-9939-4125-dff5-19e0ddfd1a85"
      },
      "source": [
        "l_id = []\n",
        "l_text = []\n",
        "\n",
        "test_source = open('/content/drive/My Drive/Colab Notebooks/Redes Neuronales/data_taller_2/test_source_tweets.txt','r')\n",
        "for linea in test_source: \n",
        "    ID = linea.split()[0]\n",
        "    t = linea.split()[1:]\n",
        "    text = ''\n",
        "    for p in t:\n",
        "        text += p+' '\n",
        "    l_id.append(ID)\n",
        "    l_text.append(text)\n",
        "\n",
        "test_source.close()\n",
        "\n",
        "sample = pd.DataFrame()\n",
        "sample['id'] = l_id\n",
        "sample['text'] = l_text\n",
        "Y_pred = np.argmax(model.predict(sample['text']), axis=-1)\n",
        "sample['label_id_pred'] = Y_pred\n",
        "sent_to_label = {0:\"false\", 1:\"non-rumor\", 2:\"true\", 3:\"unverified\"}\n",
        "sample[\"label_pred\"] = sample['label_id_pred'].map(sent_to_label)\n",
        "sample_sub = pd.DataFrame({'label':sample['label_pred'], 'id':sample['id']})\n",
        "sample_sub.to_csv('sample_submission_mateneuronas.csv', index=False)\n",
        "sample_sub.head()"
      ],
      "execution_count": null,
      "outputs": [
        {
          "output_type": "execute_result",
          "data": {
            "text/html": [
              "<div>\n",
              "<style scoped>\n",
              "    .dataframe tbody tr th:only-of-type {\n",
              "        vertical-align: middle;\n",
              "    }\n",
              "\n",
              "    .dataframe tbody tr th {\n",
              "        vertical-align: top;\n",
              "    }\n",
              "\n",
              "    .dataframe thead th {\n",
              "        text-align: right;\n",
              "    }\n",
              "</style>\n",
              "<table border=\"1\" class=\"dataframe\">\n",
              "  <thead>\n",
              "    <tr style=\"text-align: right;\">\n",
              "      <th></th>\n",
              "      <th>label</th>\n",
              "      <th>id</th>\n",
              "    </tr>\n",
              "  </thead>\n",
              "  <tbody>\n",
              "    <tr>\n",
              "      <th>0</th>\n",
              "      <td>non-rumor</td>\n",
              "      <td>689719109785907200</td>\n",
              "    </tr>\n",
              "    <tr>\n",
              "      <th>1</th>\n",
              "      <td>unverified</td>\n",
              "      <td>531300385248800768</td>\n",
              "    </tr>\n",
              "    <tr>\n",
              "      <th>2</th>\n",
              "      <td>false</td>\n",
              "      <td>652992524504600576</td>\n",
              "    </tr>\n",
              "    <tr>\n",
              "      <th>3</th>\n",
              "      <td>true</td>\n",
              "      <td>509473920060104704</td>\n",
              "    </tr>\n",
              "    <tr>\n",
              "      <th>4</th>\n",
              "      <td>false</td>\n",
              "      <td>651321040119963648</td>\n",
              "    </tr>\n",
              "  </tbody>\n",
              "</table>\n",
              "</div>"
            ],
            "text/plain": [
              "        label                  id\n",
              "0   non-rumor  689719109785907200\n",
              "1  unverified  531300385248800768\n",
              "2       false  652992524504600576\n",
              "3        true  509473920060104704\n",
              "4       false  651321040119963648"
            ]
          },
          "metadata": {
            "tags": []
          },
          "execution_count": 15
        }
      ]
    },
    {
      "cell_type": "code",
      "metadata": {
        "id": "zNCE2NVRGNy-",
        "colab_type": "code",
        "colab": {}
      },
      "source": [
        ""
      ],
      "execution_count": null,
      "outputs": []
    }
  ]
}