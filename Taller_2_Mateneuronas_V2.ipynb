{
  "nbformat": 4,
  "nbformat_minor": 0,
  "metadata": {
    "colab": {
      "name": "Taller 2 - Mateneuronas - V2.ipynb",
      "provenance": [],
      "collapsed_sections": []
    },
    "kernelspec": {
      "name": "python3",
      "display_name": "Python 3"
    },
    "accelerator": "GPU"
  },
  "cells": [
    {
      "cell_type": "code",
      "metadata": {
        "id": "ysrWgs3nEqs8",
        "colab_type": "code",
        "colab": {
          "base_uri": "https://localhost:8080/",
          "height": 357
        },
        "outputId": "b315512f-4446-4397-9f24-c665787a5866"
      },
      "source": [
        "!nvidia-smi"
      ],
      "execution_count": null,
      "outputs": [
        {
          "output_type": "stream",
          "text": [
            "Sat Jul 11 21:24:11 2020       \n",
            "+-----------------------------------------------------------------------------+\n",
            "| NVIDIA-SMI 450.36.06    Driver Version: 418.67       CUDA Version: 10.1     |\n",
            "|-------------------------------+----------------------+----------------------+\n",
            "| GPU  Name        Persistence-M| Bus-Id        Disp.A | Volatile Uncorr. ECC |\n",
            "| Fan  Temp  Perf  Pwr:Usage/Cap|         Memory-Usage | GPU-Util  Compute M. |\n",
            "|                               |                      |               MIG M. |\n",
            "|===============================+======================+======================|\n",
            "|   0  Tesla P4            Off  | 00000000:00:04.0 Off |                    0 |\n",
            "| N/A   54C    P0    25W /  75W |    271MiB /  7611MiB |      0%      Default |\n",
            "|                               |                      |                 ERR! |\n",
            "+-------------------------------+----------------------+----------------------+\n",
            "                                                                               \n",
            "+-----------------------------------------------------------------------------+\n",
            "| Processes:                                                                  |\n",
            "|  GPU   GI   CI        PID   Type   Process name                  GPU Memory |\n",
            "|        ID   ID                                                   Usage      |\n",
            "|=============================================================================|\n",
            "|  No running processes found                                                 |\n",
            "+-----------------------------------------------------------------------------+\n"
          ],
          "name": "stdout"
        }
      ]
    },
    {
      "cell_type": "code",
      "metadata": {
        "id": "F7XFrjZiDpxb",
        "colab_type": "code",
        "colab": {}
      },
      "source": [
        "import numpy as np\n",
        "import pandas as pd\n",
        "import seaborn as sns\n",
        "from sklearn.preprocessing import LabelEncoder, OneHotEncoder\n",
        "import tensorflow as tf\n",
        "from tensorflow.keras.preprocessing.text import Tokenizer\n",
        "from tensorflow.keras.models import Sequential, load_model\n",
        "from tensorflow.keras.layers import Dense, Dropout, Activation, Flatten, BatchNormalization, LSTM, Embedding, Bidirectional, GlobalAveragePooling1D, GRU, Conv1D\n",
        "import tensorflow_hub as hub\n",
        "from keras.callbacks import EarlyStopping, ModelCheckpoint, ReduceLROnPlateau"
      ],
      "execution_count": null,
      "outputs": []
    },
    {
      "cell_type": "markdown",
      "metadata": {
        "id": "daZWPWkGEyiI",
        "colab_type": "text"
      },
      "source": [
        "# Carga de datos"
      ]
    },
    {
      "cell_type": "code",
      "metadata": {
        "id": "OM7WuIfEExTt",
        "colab_type": "code",
        "colab": {
          "base_uri": "https://localhost:8080/",
          "height": 419
        },
        "outputId": "a54f9d32-5a8d-4fa4-f238-0a75be3b8fde"
      },
      "source": [
        "train_labels = pd.read_csv('/content/drive/My Drive/Colab Notebooks/Redes Neuronales/data_taller_2/train_labels.csv')\n",
        "\n",
        "l_text = []\n",
        "\n",
        "for i in range(train_labels.shape[0]):\n",
        "    ID = train_labels['id'][i] \n",
        "    train_source = open('/content/drive/My Drive/Colab Notebooks/Redes Neuronales/data_taller_2/train_source_tweets.txt','r')\n",
        "    for linea in train_source: \n",
        "        if str(ID) == linea.split()[0]:\n",
        "            t = linea.split()[1:]\n",
        "            text = ''\n",
        "            for p in t:\n",
        "                text += p+' '\n",
        "            l_text.append(text)\n",
        "            break\n",
        "    train_source.close()\n",
        "    \n",
        "train_labels['text'] = l_text\n",
        "train_labels"
      ],
      "execution_count": null,
      "outputs": [
        {
          "output_type": "execute_result",
          "data": {
            "text/html": [
              "<div>\n",
              "<style scoped>\n",
              "    .dataframe tbody tr th:only-of-type {\n",
              "        vertical-align: middle;\n",
              "    }\n",
              "\n",
              "    .dataframe tbody tr th {\n",
              "        vertical-align: top;\n",
              "    }\n",
              "\n",
              "    .dataframe thead th {\n",
              "        text-align: right;\n",
              "    }\n",
              "</style>\n",
              "<table border=\"1\" class=\"dataframe\">\n",
              "  <thead>\n",
              "    <tr style=\"text-align: right;\">\n",
              "      <th></th>\n",
              "      <th>label</th>\n",
              "      <th>id</th>\n",
              "      <th>text</th>\n",
              "    </tr>\n",
              "  </thead>\n",
              "  <tbody>\n",
              "    <tr>\n",
              "      <th>0</th>\n",
              "      <td>non-rumor</td>\n",
              "      <td>692735698349199360</td>\n",
              "      <td>north korea 'planning some kind of rocket laun...</td>\n",
              "    </tr>\n",
              "    <tr>\n",
              "      <th>1</th>\n",
              "      <td>unverified</td>\n",
              "      <td>525008463819464704</td>\n",
              "      <td>meet kevin vickers, the hero who shot down the...</td>\n",
              "    </tr>\n",
              "    <tr>\n",
              "      <th>2</th>\n",
              "      <td>false</td>\n",
              "      <td>505611045897924608</td>\n",
              "      <td>15 year old who \"swatted\" gamer convicted of d...</td>\n",
              "    </tr>\n",
              "    <tr>\n",
              "      <th>3</th>\n",
              "      <td>non-rumor</td>\n",
              "      <td>693466724822323200</td>\n",
              "      <td>audio recordings reveal cpr started 11 minutes...</td>\n",
              "    </tr>\n",
              "    <tr>\n",
              "      <th>4</th>\n",
              "      <td>true</td>\n",
              "      <td>510922415468449792</td>\n",
              "      <td>awful mt @scclemons:uk aid worker david haines...</td>\n",
              "    </tr>\n",
              "    <tr>\n",
              "      <th>...</th>\n",
              "      <td>...</td>\n",
              "      <td>...</td>\n",
              "      <td>...</td>\n",
              "    </tr>\n",
              "    <tr>\n",
              "      <th>1921</th>\n",
              "      <td>true</td>\n",
              "      <td>515598200796090369</td>\n",
              "      <td>#workplace hero shoots #altonnolen #stabbings ...</td>\n",
              "    </tr>\n",
              "    <tr>\n",
              "      <th>1922</th>\n",
              "      <td>unverified</td>\n",
              "      <td>535257207991205888</td>\n",
              "      <td>russian boy shocked by electricity now claims ...</td>\n",
              "    </tr>\n",
              "    <tr>\n",
              "      <th>1923</th>\n",
              "      <td>true</td>\n",
              "      <td>524944399890124801</td>\n",
              "      <td>recap: gunman shot dead inside parliament buil...</td>\n",
              "    </tr>\n",
              "    <tr>\n",
              "      <th>1924</th>\n",
              "      <td>false</td>\n",
              "      <td>519965814175567872</td>\n",
              "      <td>a vandal painted a brilliantly simple penis on...</td>\n",
              "    </tr>\n",
              "    <tr>\n",
              "      <th>1925</th>\n",
              "      <td>true</td>\n",
              "      <td>523939598691741696</td>\n",
              "      <td>cool dog! mt @cbsnews: goliath encounter: pupp...</td>\n",
              "    </tr>\n",
              "  </tbody>\n",
              "</table>\n",
              "<p>1926 rows × 3 columns</p>\n",
              "</div>"
            ],
            "text/plain": [
              "           label  ...                                               text\n",
              "0      non-rumor  ...  north korea 'planning some kind of rocket laun...\n",
              "1     unverified  ...  meet kevin vickers, the hero who shot down the...\n",
              "2          false  ...  15 year old who \"swatted\" gamer convicted of d...\n",
              "3      non-rumor  ...  audio recordings reveal cpr started 11 minutes...\n",
              "4           true  ...  awful mt @scclemons:uk aid worker david haines...\n",
              "...          ...  ...                                                ...\n",
              "1921        true  ...  #workplace hero shoots #altonnolen #stabbings ...\n",
              "1922  unverified  ...  russian boy shocked by electricity now claims ...\n",
              "1923        true  ...  recap: gunman shot dead inside parliament buil...\n",
              "1924       false  ...  a vandal painted a brilliantly simple penis on...\n",
              "1925        true  ...  cool dog! mt @cbsnews: goliath encounter: pupp...\n",
              "\n",
              "[1926 rows x 3 columns]"
            ]
          },
          "metadata": {
            "tags": []
          },
          "execution_count": 28
        }
      ]
    },
    {
      "cell_type": "markdown",
      "metadata": {
        "id": "JwSvAlkne2Vt",
        "colab_type": "text"
      },
      "source": [
        "# Tokenizer"
      ]
    },
    {
      "cell_type": "code",
      "metadata": {
        "id": "fnSsP31dUmcs",
        "colab_type": "code",
        "colab": {
          "base_uri": "https://localhost:8080/",
          "height": 419
        },
        "outputId": "16a5f6b3-3509-4bc4-a274-f33fadeb6177"
      },
      "source": [
        "import re\n",
        "import string\n",
        "\n",
        "def clean_text(text):\n",
        "    '''Make text lowercase, remove text in square brackets,remove links,remove punctuation\n",
        "    and remove words containing numbers.'''\n",
        "    text = str(text).lower()\n",
        "    text = re.sub('\\[.*?\\]', '', text)\n",
        "    text = re.sub('https?://\\S+|www\\.\\S+', '', text)\n",
        "    text = re.sub('<.*?>+', '', text)\n",
        "    text = re.sub('[%s]' % re.escape(string.punctuation), '', text)\n",
        "    text = re.sub('\\n', '', text)\n",
        "    #text = re.sub('\\w*\\d\\w*', '', text)\n",
        "    return text\n",
        "\n",
        "train_labels['clean_text'] = train_labels['text'].apply(lambda x:clean_text(x))\n",
        "train_labels"
      ],
      "execution_count": null,
      "outputs": [
        {
          "output_type": "execute_result",
          "data": {
            "text/html": [
              "<div>\n",
              "<style scoped>\n",
              "    .dataframe tbody tr th:only-of-type {\n",
              "        vertical-align: middle;\n",
              "    }\n",
              "\n",
              "    .dataframe tbody tr th {\n",
              "        vertical-align: top;\n",
              "    }\n",
              "\n",
              "    .dataframe thead th {\n",
              "        text-align: right;\n",
              "    }\n",
              "</style>\n",
              "<table border=\"1\" class=\"dataframe\">\n",
              "  <thead>\n",
              "    <tr style=\"text-align: right;\">\n",
              "      <th></th>\n",
              "      <th>label</th>\n",
              "      <th>id</th>\n",
              "      <th>text</th>\n",
              "      <th>clean_text</th>\n",
              "    </tr>\n",
              "  </thead>\n",
              "  <tbody>\n",
              "    <tr>\n",
              "      <th>0</th>\n",
              "      <td>non-rumor</td>\n",
              "      <td>692735698349199360</td>\n",
              "      <td>north korea 'planning some kind of rocket laun...</td>\n",
              "      <td>north korea planning some kind of rocket launc...</td>\n",
              "    </tr>\n",
              "    <tr>\n",
              "      <th>1</th>\n",
              "      <td>unverified</td>\n",
              "      <td>525008463819464704</td>\n",
              "      <td>meet kevin vickers, the hero who shot down the...</td>\n",
              "      <td>meet kevin vickers the hero who shot down the ...</td>\n",
              "    </tr>\n",
              "    <tr>\n",
              "      <th>2</th>\n",
              "      <td>false</td>\n",
              "      <td>505611045897924608</td>\n",
              "      <td>15 year old who \"swatted\" gamer convicted of d...</td>\n",
              "      <td>15 year old who swatted gamer convicted of dom...</td>\n",
              "    </tr>\n",
              "    <tr>\n",
              "      <th>3</th>\n",
              "      <td>non-rumor</td>\n",
              "      <td>693466724822323200</td>\n",
              "      <td>audio recordings reveal cpr started 11 minutes...</td>\n",
              "      <td>audio recordings reveal cpr started 11 minutes...</td>\n",
              "    </tr>\n",
              "    <tr>\n",
              "      <th>4</th>\n",
              "      <td>true</td>\n",
              "      <td>510922415468449792</td>\n",
              "      <td>awful mt @scclemons:uk aid worker david haines...</td>\n",
              "      <td>awful mt scclemonsuk aid worker david haines b...</td>\n",
              "    </tr>\n",
              "    <tr>\n",
              "      <th>...</th>\n",
              "      <td>...</td>\n",
              "      <td>...</td>\n",
              "      <td>...</td>\n",
              "      <td>...</td>\n",
              "    </tr>\n",
              "    <tr>\n",
              "      <th>1921</th>\n",
              "      <td>true</td>\n",
              "      <td>515598200796090369</td>\n",
              "      <td>#workplace hero shoots #altonnolen #stabbings ...</td>\n",
              "      <td>workplace hero shoots altonnolen stabbings beh...</td>\n",
              "    </tr>\n",
              "    <tr>\n",
              "      <th>1922</th>\n",
              "      <td>unverified</td>\n",
              "      <td>535257207991205888</td>\n",
              "      <td>russian boy shocked by electricity now claims ...</td>\n",
              "      <td>russian boy shocked by electricity now claims ...</td>\n",
              "    </tr>\n",
              "    <tr>\n",
              "      <th>1923</th>\n",
              "      <td>true</td>\n",
              "      <td>524944399890124801</td>\n",
              "      <td>recap: gunman shot dead inside parliament buil...</td>\n",
              "      <td>recap gunman shot dead inside parliament build...</td>\n",
              "    </tr>\n",
              "    <tr>\n",
              "      <th>1924</th>\n",
              "      <td>false</td>\n",
              "      <td>519965814175567872</td>\n",
              "      <td>a vandal painted a brilliantly simple penis on...</td>\n",
              "      <td>a vandal painted a brilliantly simple penis on...</td>\n",
              "    </tr>\n",
              "    <tr>\n",
              "      <th>1925</th>\n",
              "      <td>true</td>\n",
              "      <td>523939598691741696</td>\n",
              "      <td>cool dog! mt @cbsnews: goliath encounter: pupp...</td>\n",
              "      <td>cool dog mt cbsnews goliath encounter puppysiz...</td>\n",
              "    </tr>\n",
              "  </tbody>\n",
              "</table>\n",
              "<p>1926 rows × 4 columns</p>\n",
              "</div>"
            ],
            "text/plain": [
              "           label  ...                                         clean_text\n",
              "0      non-rumor  ...  north korea planning some kind of rocket launc...\n",
              "1     unverified  ...  meet kevin vickers the hero who shot down the ...\n",
              "2          false  ...  15 year old who swatted gamer convicted of dom...\n",
              "3      non-rumor  ...  audio recordings reveal cpr started 11 minutes...\n",
              "4           true  ...  awful mt scclemonsuk aid worker david haines b...\n",
              "...          ...  ...                                                ...\n",
              "1921        true  ...  workplace hero shoots altonnolen stabbings beh...\n",
              "1922  unverified  ...  russian boy shocked by electricity now claims ...\n",
              "1923        true  ...  recap gunman shot dead inside parliament build...\n",
              "1924       false  ...  a vandal painted a brilliantly simple penis on...\n",
              "1925        true  ...  cool dog mt cbsnews goliath encounter puppysiz...\n",
              "\n",
              "[1926 rows x 4 columns]"
            ]
          },
          "metadata": {
            "tags": []
          },
          "execution_count": 29
        }
      ]
    },
    {
      "cell_type": "code",
      "metadata": {
        "id": "y0gOeLrpe4Ab",
        "colab_type": "code",
        "colab": {
          "base_uri": "https://localhost:8080/",
          "height": 34
        },
        "outputId": "8d2caa29-f98e-4f47-bbc3-a43bce27937e"
      },
      "source": [
        "from tensorflow.keras.preprocessing.text import Tokenizer\n",
        "from tensorflow.keras.preprocessing.sequence import pad_sequences\n",
        "\n",
        "vocab_size = 1000\n",
        "embedding_dim = 256\n",
        "max_length = 256\n",
        "trunc_type = 'post'\n",
        "padding_type = 'post'\n",
        "oov_tok = '<OOV>'\n",
        "\n",
        "tokenizer = Tokenizer(num_words=vocab_size, oov_token=oov_tok)\n",
        "tokenizer.fit_on_texts(train_labels[\"clean_text\"])\n",
        "word_index = tokenizer.word_index\n",
        "\n",
        "train_sequences = tokenizer.texts_to_sequences(train_labels[\"clean_text\"])\n",
        "train_padded = pad_sequences(train_sequences, padding = padding_type, maxlen = max_length)\n",
        "train_padded.shape"
      ],
      "execution_count": null,
      "outputs": [
        {
          "output_type": "execute_result",
          "data": {
            "text/plain": [
              "(1926, 256)"
            ]
          },
          "metadata": {
            "tags": []
          },
          "execution_count": 30
        }
      ]
    },
    {
      "cell_type": "markdown",
      "metadata": {
        "id": "NMO8hDukE3HG",
        "colab_type": "text"
      },
      "source": [
        "# Encoder"
      ]
    },
    {
      "cell_type": "code",
      "metadata": {
        "id": "QGNCtYwiE1dk",
        "colab_type": "code",
        "colab": {
          "base_uri": "https://localhost:8080/",
          "height": 419
        },
        "outputId": "753d4c4a-7a20-46f2-da79-da6f564ed550"
      },
      "source": [
        "sent_to_id = {\"false\":0, \"non-rumor\":1, \"true\":2, \"unverified\":3}\n",
        "train_labels[\"label_id\"] = train_labels['label'].map(sent_to_id)\n",
        "train_labels"
      ],
      "execution_count": null,
      "outputs": [
        {
          "output_type": "execute_result",
          "data": {
            "text/html": [
              "<div>\n",
              "<style scoped>\n",
              "    .dataframe tbody tr th:only-of-type {\n",
              "        vertical-align: middle;\n",
              "    }\n",
              "\n",
              "    .dataframe tbody tr th {\n",
              "        vertical-align: top;\n",
              "    }\n",
              "\n",
              "    .dataframe thead th {\n",
              "        text-align: right;\n",
              "    }\n",
              "</style>\n",
              "<table border=\"1\" class=\"dataframe\">\n",
              "  <thead>\n",
              "    <tr style=\"text-align: right;\">\n",
              "      <th></th>\n",
              "      <th>label</th>\n",
              "      <th>id</th>\n",
              "      <th>text</th>\n",
              "      <th>clean_text</th>\n",
              "      <th>label_id</th>\n",
              "    </tr>\n",
              "  </thead>\n",
              "  <tbody>\n",
              "    <tr>\n",
              "      <th>0</th>\n",
              "      <td>non-rumor</td>\n",
              "      <td>692735698349199360</td>\n",
              "      <td>north korea 'planning some kind of rocket laun...</td>\n",
              "      <td>north korea planning some kind of rocket launc...</td>\n",
              "      <td>1</td>\n",
              "    </tr>\n",
              "    <tr>\n",
              "      <th>1</th>\n",
              "      <td>unverified</td>\n",
              "      <td>525008463819464704</td>\n",
              "      <td>meet kevin vickers, the hero who shot down the...</td>\n",
              "      <td>meet kevin vickers the hero who shot down the ...</td>\n",
              "      <td>3</td>\n",
              "    </tr>\n",
              "    <tr>\n",
              "      <th>2</th>\n",
              "      <td>false</td>\n",
              "      <td>505611045897924608</td>\n",
              "      <td>15 year old who \"swatted\" gamer convicted of d...</td>\n",
              "      <td>15 year old who swatted gamer convicted of dom...</td>\n",
              "      <td>0</td>\n",
              "    </tr>\n",
              "    <tr>\n",
              "      <th>3</th>\n",
              "      <td>non-rumor</td>\n",
              "      <td>693466724822323200</td>\n",
              "      <td>audio recordings reveal cpr started 11 minutes...</td>\n",
              "      <td>audio recordings reveal cpr started 11 minutes...</td>\n",
              "      <td>1</td>\n",
              "    </tr>\n",
              "    <tr>\n",
              "      <th>4</th>\n",
              "      <td>true</td>\n",
              "      <td>510922415468449792</td>\n",
              "      <td>awful mt @scclemons:uk aid worker david haines...</td>\n",
              "      <td>awful mt scclemonsuk aid worker david haines b...</td>\n",
              "      <td>2</td>\n",
              "    </tr>\n",
              "    <tr>\n",
              "      <th>...</th>\n",
              "      <td>...</td>\n",
              "      <td>...</td>\n",
              "      <td>...</td>\n",
              "      <td>...</td>\n",
              "      <td>...</td>\n",
              "    </tr>\n",
              "    <tr>\n",
              "      <th>1921</th>\n",
              "      <td>true</td>\n",
              "      <td>515598200796090369</td>\n",
              "      <td>#workplace hero shoots #altonnolen #stabbings ...</td>\n",
              "      <td>workplace hero shoots altonnolen stabbings beh...</td>\n",
              "      <td>2</td>\n",
              "    </tr>\n",
              "    <tr>\n",
              "      <th>1922</th>\n",
              "      <td>unverified</td>\n",
              "      <td>535257207991205888</td>\n",
              "      <td>russian boy shocked by electricity now claims ...</td>\n",
              "      <td>russian boy shocked by electricity now claims ...</td>\n",
              "      <td>3</td>\n",
              "    </tr>\n",
              "    <tr>\n",
              "      <th>1923</th>\n",
              "      <td>true</td>\n",
              "      <td>524944399890124801</td>\n",
              "      <td>recap: gunman shot dead inside parliament buil...</td>\n",
              "      <td>recap gunman shot dead inside parliament build...</td>\n",
              "      <td>2</td>\n",
              "    </tr>\n",
              "    <tr>\n",
              "      <th>1924</th>\n",
              "      <td>false</td>\n",
              "      <td>519965814175567872</td>\n",
              "      <td>a vandal painted a brilliantly simple penis on...</td>\n",
              "      <td>a vandal painted a brilliantly simple penis on...</td>\n",
              "      <td>0</td>\n",
              "    </tr>\n",
              "    <tr>\n",
              "      <th>1925</th>\n",
              "      <td>true</td>\n",
              "      <td>523939598691741696</td>\n",
              "      <td>cool dog! mt @cbsnews: goliath encounter: pupp...</td>\n",
              "      <td>cool dog mt cbsnews goliath encounter puppysiz...</td>\n",
              "      <td>2</td>\n",
              "    </tr>\n",
              "  </tbody>\n",
              "</table>\n",
              "<p>1926 rows × 5 columns</p>\n",
              "</div>"
            ],
            "text/plain": [
              "           label  ...  label_id\n",
              "0      non-rumor  ...         1\n",
              "1     unverified  ...         3\n",
              "2          false  ...         0\n",
              "3      non-rumor  ...         1\n",
              "4           true  ...         2\n",
              "...          ...  ...       ...\n",
              "1921        true  ...         2\n",
              "1922  unverified  ...         3\n",
              "1923        true  ...         2\n",
              "1924       false  ...         0\n",
              "1925        true  ...         2\n",
              "\n",
              "[1926 rows x 5 columns]"
            ]
          },
          "metadata": {
            "tags": []
          },
          "execution_count": 31
        }
      ]
    },
    {
      "cell_type": "code",
      "metadata": {
        "id": "fSLM1g09E4YL",
        "colab_type": "code",
        "colab": {
          "base_uri": "https://localhost:8080/",
          "height": 136
        },
        "outputId": "9414713a-fa1c-458c-f335-2c23d7834d76"
      },
      "source": [
        "label_encoder = LabelEncoder()\n",
        "integer_encoded = label_encoder.fit_transform(train_labels.label_id)\n",
        "onehot_encoder = OneHotEncoder(sparse=False)\n",
        "integer_encoded = integer_encoded.reshape(len(integer_encoded), 1)\n",
        "Y = onehot_encoder.fit_transform(integer_encoded)\n",
        "Y"
      ],
      "execution_count": null,
      "outputs": [
        {
          "output_type": "execute_result",
          "data": {
            "text/plain": [
              "array([[0., 1., 0., 0.],\n",
              "       [0., 0., 0., 1.],\n",
              "       [1., 0., 0., 0.],\n",
              "       ...,\n",
              "       [0., 0., 1., 0.],\n",
              "       [1., 0., 0., 0.],\n",
              "       [0., 0., 1., 0.]])"
            ]
          },
          "metadata": {
            "tags": []
          },
          "execution_count": 32
        }
      ]
    },
    {
      "cell_type": "markdown",
      "metadata": {
        "id": "ggFaoaZYE7o6",
        "colab_type": "text"
      },
      "source": [
        "# Modelo\n",
        "\n"
      ]
    },
    {
      "cell_type": "code",
      "metadata": {
        "id": "9n_UiL8WE8kr",
        "colab_type": "code",
        "colab": {
          "base_uri": "https://localhost:8080/",
          "height": 289
        },
        "outputId": "e486e8fd-8464-4ee5-cef6-e7c44d4f90b2"
      },
      "source": [
        "def model_simple():\n",
        "    model = Sequential()\n",
        "    model.add(Embedding(vocab_size, embedding_dim, input_length=max_length))\n",
        "    model.add(GlobalAveragePooling1D())\n",
        "    model.add(Dense(64, activation='relu'))\n",
        "    model.add(Dense(4, activation='softmax'))\n",
        "    return model\n",
        "\n",
        "def model_s():\n",
        "    model = Sequential()\n",
        "    model.add(Dense(256, input_shape=[max_length], activation='relu'))\n",
        "    model.add(Dense(4,activation='softmax'))\n",
        "    return model\n",
        "\n",
        "def model_lstm():\n",
        "    model = Sequential()\n",
        "    model.add(Embedding(vocab_size, embedding_dim, input_length=max_length))\n",
        "    model.add(LSTM(50, dropout=0.5))\n",
        "    model.add(Dense(4, activation='softmax'))\n",
        "    return model\n",
        "\n",
        "model = model_simple()\n",
        "model.summary()"
      ],
      "execution_count": null,
      "outputs": [
        {
          "output_type": "stream",
          "text": [
            "Model: \"sequential_3\"\n",
            "_________________________________________________________________\n",
            "Layer (type)                 Output Shape              Param #   \n",
            "=================================================================\n",
            "embedding_3 (Embedding)      (None, 256, 256)          256000    \n",
            "_________________________________________________________________\n",
            "global_average_pooling1d_3 ( (None, 256)               0         \n",
            "_________________________________________________________________\n",
            "dense_6 (Dense)              (None, 64)                16448     \n",
            "_________________________________________________________________\n",
            "dense_7 (Dense)              (None, 4)                 260       \n",
            "=================================================================\n",
            "Total params: 272,708\n",
            "Trainable params: 272,708\n",
            "Non-trainable params: 0\n",
            "_________________________________________________________________\n"
          ],
          "name": "stdout"
        }
      ]
    },
    {
      "cell_type": "code",
      "metadata": {
        "id": "rnm2L4fAE9y5",
        "colab_type": "code",
        "colab": {}
      },
      "source": [
        "model.compile(optimizer='adam',\n",
        "              loss='categorical_crossentropy',\n",
        "              metrics=['accuracy'])"
      ],
      "execution_count": null,
      "outputs": []
    },
    {
      "cell_type": "markdown",
      "metadata": {
        "id": "hfZu0ECvFARL",
        "colab_type": "text"
      },
      "source": [
        "# Entrenamiento"
      ]
    },
    {
      "cell_type": "code",
      "metadata": {
        "id": "G1k75tp6E_pi",
        "colab_type": "code",
        "colab": {
          "base_uri": "https://localhost:8080/",
          "height": 1000
        },
        "outputId": "9c253bbc-abcf-4fd9-c853-302c9b8ae913"
      },
      "source": [
        "X = train_padded\n",
        "# Entrenamiento\n",
        "history = model.fit(X, Y, epochs=70, batch_size=32, validation_split=0.25, verbose=1,callbacks=[])"
      ],
      "execution_count": null,
      "outputs": [
        {
          "output_type": "stream",
          "text": [
            "Epoch 1/70\n",
            "46/46 [==============================] - 1s 12ms/step - loss: 1.3802 - accuracy: 0.2749 - val_loss: 1.3789 - val_accuracy: 0.2614\n",
            "Epoch 2/70\n",
            "46/46 [==============================] - 0s 10ms/step - loss: 1.3727 - accuracy: 0.2770 - val_loss: 1.3775 - val_accuracy: 0.2614\n",
            "Epoch 3/70\n",
            "46/46 [==============================] - 0s 9ms/step - loss: 1.3707 - accuracy: 0.3082 - val_loss: 1.3731 - val_accuracy: 0.3465\n",
            "Epoch 4/70\n",
            "46/46 [==============================] - 0s 9ms/step - loss: 1.3644 - accuracy: 0.4356 - val_loss: 1.3686 - val_accuracy: 0.3859\n",
            "Epoch 5/70\n",
            "46/46 [==============================] - 0s 9ms/step - loss: 1.3561 - accuracy: 0.4024 - val_loss: 1.3578 - val_accuracy: 0.4793\n",
            "Epoch 6/70\n",
            "46/46 [==============================] - 0s 9ms/step - loss: 1.3405 - accuracy: 0.4259 - val_loss: 1.3428 - val_accuracy: 0.3651\n",
            "Epoch 7/70\n",
            "46/46 [==============================] - 0s 10ms/step - loss: 1.3141 - accuracy: 0.4806 - val_loss: 1.3148 - val_accuracy: 0.4813\n",
            "Epoch 8/70\n",
            "46/46 [==============================] - 0s 9ms/step - loss: 1.2736 - accuracy: 0.5132 - val_loss: 1.2720 - val_accuracy: 0.4419\n",
            "Epoch 9/70\n",
            "46/46 [==============================] - 0s 9ms/step - loss: 1.2183 - accuracy: 0.5139 - val_loss: 1.2213 - val_accuracy: 0.4917\n",
            "Epoch 10/70\n",
            "46/46 [==============================] - 0s 9ms/step - loss: 1.1569 - accuracy: 0.5769 - val_loss: 1.1747 - val_accuracy: 0.5311\n",
            "Epoch 11/70\n",
            "46/46 [==============================] - 0s 9ms/step - loss: 1.0924 - accuracy: 0.6073 - val_loss: 1.1378 - val_accuracy: 0.5477\n",
            "Epoch 12/70\n",
            "46/46 [==============================] - 0s 10ms/step - loss: 1.0366 - accuracy: 0.6316 - val_loss: 1.1020 - val_accuracy: 0.5581\n",
            "Epoch 13/70\n",
            "46/46 [==============================] - 0s 9ms/step - loss: 0.9800 - accuracy: 0.6406 - val_loss: 1.0838 - val_accuracy: 0.5539\n",
            "Epoch 14/70\n",
            "46/46 [==============================] - 0s 9ms/step - loss: 0.9280 - accuracy: 0.6489 - val_loss: 1.0506 - val_accuracy: 0.5685\n",
            "Epoch 15/70\n",
            "46/46 [==============================] - 0s 9ms/step - loss: 0.8840 - accuracy: 0.6662 - val_loss: 0.9932 - val_accuracy: 0.5954\n",
            "Epoch 16/70\n",
            "46/46 [==============================] - 0s 9ms/step - loss: 0.8355 - accuracy: 0.6904 - val_loss: 0.9644 - val_accuracy: 0.5913\n",
            "Epoch 17/70\n",
            "46/46 [==============================] - 0s 10ms/step - loss: 0.7833 - accuracy: 0.7285 - val_loss: 0.9592 - val_accuracy: 0.6017\n",
            "Epoch 18/70\n",
            "46/46 [==============================] - 0s 10ms/step - loss: 0.7616 - accuracy: 0.7258 - val_loss: 0.9241 - val_accuracy: 0.6307\n",
            "Epoch 19/70\n",
            "46/46 [==============================] - 0s 10ms/step - loss: 0.7024 - accuracy: 0.7729 - val_loss: 0.8867 - val_accuracy: 0.6680\n",
            "Epoch 20/70\n",
            "46/46 [==============================] - 0s 10ms/step - loss: 0.6658 - accuracy: 0.7763 - val_loss: 0.8585 - val_accuracy: 0.7033\n",
            "Epoch 21/70\n",
            "46/46 [==============================] - 0s 9ms/step - loss: 0.6208 - accuracy: 0.8116 - val_loss: 0.8404 - val_accuracy: 0.6826\n",
            "Epoch 22/70\n",
            "46/46 [==============================] - 0s 9ms/step - loss: 0.5880 - accuracy: 0.8255 - val_loss: 0.8369 - val_accuracy: 0.6846\n",
            "Epoch 23/70\n",
            "46/46 [==============================] - 0s 9ms/step - loss: 0.5610 - accuracy: 0.8331 - val_loss: 0.8044 - val_accuracy: 0.7137\n",
            "Epoch 24/70\n",
            "46/46 [==============================] - 0s 9ms/step - loss: 0.5150 - accuracy: 0.8539 - val_loss: 0.7966 - val_accuracy: 0.7033\n",
            "Epoch 25/70\n",
            "46/46 [==============================] - 0s 9ms/step - loss: 0.4838 - accuracy: 0.8684 - val_loss: 0.7544 - val_accuracy: 0.7282\n",
            "Epoch 26/70\n",
            "46/46 [==============================] - 0s 9ms/step - loss: 0.4771 - accuracy: 0.8525 - val_loss: 0.7432 - val_accuracy: 0.7303\n",
            "Epoch 27/70\n",
            "46/46 [==============================] - 0s 9ms/step - loss: 0.4330 - accuracy: 0.8843 - val_loss: 0.7364 - val_accuracy: 0.7324\n",
            "Epoch 28/70\n",
            "46/46 [==============================] - 0s 10ms/step - loss: 0.4119 - accuracy: 0.8795 - val_loss: 0.7243 - val_accuracy: 0.7469\n",
            "Epoch 29/70\n",
            "46/46 [==============================] - 0s 9ms/step - loss: 0.3838 - accuracy: 0.8940 - val_loss: 0.6943 - val_accuracy: 0.7531\n",
            "Epoch 30/70\n",
            "46/46 [==============================] - 0s 9ms/step - loss: 0.3633 - accuracy: 0.9030 - val_loss: 0.6857 - val_accuracy: 0.7531\n",
            "Epoch 31/70\n",
            "46/46 [==============================] - 0s 9ms/step - loss: 0.3411 - accuracy: 0.9051 - val_loss: 0.7084 - val_accuracy: 0.7718\n",
            "Epoch 32/70\n",
            "46/46 [==============================] - 0s 9ms/step - loss: 0.3265 - accuracy: 0.9037 - val_loss: 0.6956 - val_accuracy: 0.7635\n",
            "Epoch 33/70\n",
            "46/46 [==============================] - 0s 9ms/step - loss: 0.3114 - accuracy: 0.9183 - val_loss: 0.6800 - val_accuracy: 0.7614\n",
            "Epoch 34/70\n",
            "46/46 [==============================] - 0s 9ms/step - loss: 0.2851 - accuracy: 0.9266 - val_loss: 0.7051 - val_accuracy: 0.7531\n",
            "Epoch 35/70\n",
            "46/46 [==============================] - 0s 9ms/step - loss: 0.2804 - accuracy: 0.9252 - val_loss: 0.6805 - val_accuracy: 0.7593\n",
            "Epoch 36/70\n",
            "46/46 [==============================] - 0s 9ms/step - loss: 0.2606 - accuracy: 0.9314 - val_loss: 0.7783 - val_accuracy: 0.7448\n",
            "Epoch 37/70\n",
            "46/46 [==============================] - 0s 10ms/step - loss: 0.2598 - accuracy: 0.9287 - val_loss: 0.6626 - val_accuracy: 0.7593\n",
            "Epoch 38/70\n",
            "46/46 [==============================] - 0s 10ms/step - loss: 0.2567 - accuracy: 0.9273 - val_loss: 0.7044 - val_accuracy: 0.7552\n",
            "Epoch 39/70\n",
            "46/46 [==============================] - 0s 10ms/step - loss: 0.2367 - accuracy: 0.9404 - val_loss: 0.6866 - val_accuracy: 0.7614\n",
            "Epoch 40/70\n",
            "46/46 [==============================] - 0s 10ms/step - loss: 0.2206 - accuracy: 0.9425 - val_loss: 0.6724 - val_accuracy: 0.7552\n",
            "Epoch 41/70\n",
            "46/46 [==============================] - 0s 10ms/step - loss: 0.2117 - accuracy: 0.9453 - val_loss: 0.7238 - val_accuracy: 0.7676\n",
            "Epoch 42/70\n",
            "46/46 [==============================] - 0s 10ms/step - loss: 0.2066 - accuracy: 0.9467 - val_loss: 0.6792 - val_accuracy: 0.7718\n",
            "Epoch 43/70\n",
            "46/46 [==============================] - 0s 10ms/step - loss: 0.1988 - accuracy: 0.9474 - val_loss: 0.7062 - val_accuracy: 0.7635\n",
            "Epoch 44/70\n",
            "46/46 [==============================] - 0s 10ms/step - loss: 0.1933 - accuracy: 0.9543 - val_loss: 0.6950 - val_accuracy: 0.7676\n",
            "Epoch 45/70\n",
            "46/46 [==============================] - 0s 10ms/step - loss: 0.1748 - accuracy: 0.9557 - val_loss: 0.7088 - val_accuracy: 0.7676\n",
            "Epoch 46/70\n",
            "46/46 [==============================] - 0s 10ms/step - loss: 0.1710 - accuracy: 0.9529 - val_loss: 0.6805 - val_accuracy: 0.7635\n",
            "Epoch 47/70\n",
            "46/46 [==============================] - 0s 10ms/step - loss: 0.1619 - accuracy: 0.9640 - val_loss: 0.7128 - val_accuracy: 0.7635\n",
            "Epoch 48/70\n",
            "46/46 [==============================] - 0s 10ms/step - loss: 0.1565 - accuracy: 0.9626 - val_loss: 0.7368 - val_accuracy: 0.7407\n",
            "Epoch 49/70\n",
            "46/46 [==============================] - 0s 10ms/step - loss: 0.1659 - accuracy: 0.9536 - val_loss: 0.7100 - val_accuracy: 0.7656\n",
            "Epoch 50/70\n",
            "46/46 [==============================] - 0s 10ms/step - loss: 0.1455 - accuracy: 0.9681 - val_loss: 0.8227 - val_accuracy: 0.7510\n",
            "Epoch 51/70\n",
            "46/46 [==============================] - 0s 10ms/step - loss: 0.1584 - accuracy: 0.9605 - val_loss: 0.7779 - val_accuracy: 0.7573\n",
            "Epoch 52/70\n",
            "46/46 [==============================] - 0s 10ms/step - loss: 0.1339 - accuracy: 0.9716 - val_loss: 0.7317 - val_accuracy: 0.7552\n",
            "Epoch 53/70\n",
            "46/46 [==============================] - 0s 9ms/step - loss: 0.1379 - accuracy: 0.9640 - val_loss: 0.7322 - val_accuracy: 0.7697\n",
            "Epoch 54/70\n",
            "46/46 [==============================] - 0s 10ms/step - loss: 0.1246 - accuracy: 0.9702 - val_loss: 0.7993 - val_accuracy: 0.7573\n",
            "Epoch 55/70\n",
            "46/46 [==============================] - 0s 10ms/step - loss: 0.1190 - accuracy: 0.9744 - val_loss: 0.7619 - val_accuracy: 0.7676\n",
            "Epoch 56/70\n",
            "46/46 [==============================] - 0s 10ms/step - loss: 0.1181 - accuracy: 0.9723 - val_loss: 0.7685 - val_accuracy: 0.7573\n",
            "Epoch 57/70\n",
            "46/46 [==============================] - 0s 10ms/step - loss: 0.1136 - accuracy: 0.9709 - val_loss: 0.7576 - val_accuracy: 0.7614\n",
            "Epoch 58/70\n",
            "46/46 [==============================] - 0s 10ms/step - loss: 0.1099 - accuracy: 0.9758 - val_loss: 0.7490 - val_accuracy: 0.7635\n",
            "Epoch 59/70\n",
            "46/46 [==============================] - 0s 10ms/step - loss: 0.1048 - accuracy: 0.9765 - val_loss: 0.8043 - val_accuracy: 0.7739\n",
            "Epoch 60/70\n",
            "46/46 [==============================] - 0s 9ms/step - loss: 0.1054 - accuracy: 0.9751 - val_loss: 0.7938 - val_accuracy: 0.7531\n",
            "Epoch 61/70\n",
            "46/46 [==============================] - 0s 9ms/step - loss: 0.1073 - accuracy: 0.9737 - val_loss: 0.8287 - val_accuracy: 0.7676\n",
            "Epoch 62/70\n",
            "46/46 [==============================] - 0s 9ms/step - loss: 0.0934 - accuracy: 0.9792 - val_loss: 0.8083 - val_accuracy: 0.7739\n",
            "Epoch 63/70\n",
            "46/46 [==============================] - 0s 9ms/step - loss: 0.0901 - accuracy: 0.9806 - val_loss: 0.8492 - val_accuracy: 0.7635\n",
            "Epoch 64/70\n",
            "46/46 [==============================] - 0s 9ms/step - loss: 0.0849 - accuracy: 0.9834 - val_loss: 0.8465 - val_accuracy: 0.7739\n",
            "Epoch 65/70\n",
            "46/46 [==============================] - 0s 9ms/step - loss: 0.0824 - accuracy: 0.9806 - val_loss: 0.8088 - val_accuracy: 0.7531\n",
            "Epoch 66/70\n",
            "46/46 [==============================] - 0s 9ms/step - loss: 0.0898 - accuracy: 0.9806 - val_loss: 0.8375 - val_accuracy: 0.7635\n",
            "Epoch 67/70\n",
            "46/46 [==============================] - 0s 9ms/step - loss: 0.0764 - accuracy: 0.9868 - val_loss: 0.8636 - val_accuracy: 0.7739\n",
            "Epoch 68/70\n",
            "46/46 [==============================] - 0s 9ms/step - loss: 0.0766 - accuracy: 0.9834 - val_loss: 0.8437 - val_accuracy: 0.7656\n",
            "Epoch 69/70\n",
            "46/46 [==============================] - 0s 9ms/step - loss: 0.0740 - accuracy: 0.9882 - val_loss: 0.8419 - val_accuracy: 0.7635\n",
            "Epoch 70/70\n",
            "46/46 [==============================] - 0s 9ms/step - loss: 0.0698 - accuracy: 0.9861 - val_loss: 0.8827 - val_accuracy: 0.7303\n"
          ],
          "name": "stdout"
        }
      ]
    },
    {
      "cell_type": "markdown",
      "metadata": {
        "id": "Ll7o83lWFEfu",
        "colab_type": "text"
      },
      "source": [
        "# Predictions"
      ]
    },
    {
      "cell_type": "code",
      "metadata": {
        "id": "O87UUYB0HJvE",
        "colab_type": "code",
        "colab": {
          "base_uri": "https://localhost:8080/",
          "height": 419
        },
        "outputId": "b195b398-c519-4cc7-bf68-b00097850e70"
      },
      "source": [
        "l_id = []\n",
        "l_text = []\n",
        "\n",
        "test_source = open('/content/drive/My Drive/Colab Notebooks/Redes Neuronales/data_taller_2/test_source_tweets.txt','r')\n",
        "for linea in test_source: \n",
        "    ID = linea.split()[0]\n",
        "    t = linea.split()[1:]\n",
        "    text = ''\n",
        "    for p in t:\n",
        "        text += p+' '\n",
        "    l_id.append(ID)\n",
        "    l_text.append(text)\n",
        "\n",
        "test_source.close()\n",
        "\n",
        "sample = pd.DataFrame()\n",
        "sample['id'] = l_id\n",
        "sample['text'] = l_text\n",
        "sample['clean_text'] = sample['text'].apply(lambda x:clean_text(x))\n",
        "sample"
      ],
      "execution_count": null,
      "outputs": [
        {
          "output_type": "execute_result",
          "data": {
            "text/html": [
              "<div>\n",
              "<style scoped>\n",
              "    .dataframe tbody tr th:only-of-type {\n",
              "        vertical-align: middle;\n",
              "    }\n",
              "\n",
              "    .dataframe tbody tr th {\n",
              "        vertical-align: top;\n",
              "    }\n",
              "\n",
              "    .dataframe thead th {\n",
              "        text-align: right;\n",
              "    }\n",
              "</style>\n",
              "<table border=\"1\" class=\"dataframe\">\n",
              "  <thead>\n",
              "    <tr style=\"text-align: right;\">\n",
              "      <th></th>\n",
              "      <th>id</th>\n",
              "      <th>text</th>\n",
              "      <th>clean_text</th>\n",
              "    </tr>\n",
              "  </thead>\n",
              "  <tbody>\n",
              "    <tr>\n",
              "      <th>0</th>\n",
              "      <td>689719109785907200</td>\n",
              "      <td>death toll from #bachakhanuniattack rises to a...</td>\n",
              "      <td>death toll from bachakhanuniattack rises to at...</td>\n",
              "    </tr>\n",
              "    <tr>\n",
              "      <th>1</th>\n",
              "      <td>531300385248800768</td>\n",
              "      <td>the head of isis, abu bakr al-baghdadi, is sai...</td>\n",
              "      <td>the head of isis abu bakr albaghdadi is said t...</td>\n",
              "    </tr>\n",
              "    <tr>\n",
              "      <th>2</th>\n",
              "      <td>652992524504600576</td>\n",
              "      <td>steve jobs was adopted. his biological father ...</td>\n",
              "      <td>steve jobs was adopted his biological father w...</td>\n",
              "    </tr>\n",
              "    <tr>\n",
              "      <th>3</th>\n",
              "      <td>509473920060104704</td>\n",
              "      <td>microsoft to buy mojang - report URL $2 billio...</td>\n",
              "      <td>microsoft to buy mojang  report url 2 billion ...</td>\n",
              "    </tr>\n",
              "    <tr>\n",
              "      <th>4</th>\n",
              "      <td>651321040119963648</td>\n",
              "      <td>el chapo puts $100 million bounty on donald tr...</td>\n",
              "      <td>el chapo puts 100 million bounty on donald tru...</td>\n",
              "    </tr>\n",
              "    <tr>\n",
              "      <th>...</th>\n",
              "      <td>...</td>\n",
              "      <td>...</td>\n",
              "      <td>...</td>\n",
              "    </tr>\n",
              "    <tr>\n",
              "      <th>208</th>\n",
              "      <td>642432477185867776</td>\n",
              "      <td>the stickers on fruit are edible.</td>\n",
              "      <td>the stickers on fruit are edible</td>\n",
              "    </tr>\n",
              "    <tr>\n",
              "      <th>209</th>\n",
              "      <td>693236688538243074</td>\n",
              "      <td>is the truth out there? in nod to @thexfiles, ...</td>\n",
              "      <td>is the truth out there in nod to thexfiles cia...</td>\n",
              "    </tr>\n",
              "    <tr>\n",
              "      <th>210</th>\n",
              "      <td>504131150429061121</td>\n",
              "      <td>breaking: fbi uncovers new audio from neighbor...</td>\n",
              "      <td>breaking fbi uncovers new audio from neighbor ...</td>\n",
              "    </tr>\n",
              "    <tr>\n",
              "      <th>211</th>\n",
              "      <td>692004901455556608</td>\n",
              "      <td>.@potus just announced new reforms to address ...</td>\n",
              "      <td>potus just announced new reforms to address th...</td>\n",
              "    </tr>\n",
              "    <tr>\n",
              "      <th>212</th>\n",
              "      <td>692157602554343424</td>\n",
              "      <td>waiting for the new episode of #teenwolf like....</td>\n",
              "      <td>waiting for the new episode of teenwolf like url</td>\n",
              "    </tr>\n",
              "  </tbody>\n",
              "</table>\n",
              "<p>213 rows × 3 columns</p>\n",
              "</div>"
            ],
            "text/plain": [
              "                     id  ...                                         clean_text\n",
              "0    689719109785907200  ...  death toll from bachakhanuniattack rises to at...\n",
              "1    531300385248800768  ...  the head of isis abu bakr albaghdadi is said t...\n",
              "2    652992524504600576  ...  steve jobs was adopted his biological father w...\n",
              "3    509473920060104704  ...  microsoft to buy mojang  report url 2 billion ...\n",
              "4    651321040119963648  ...  el chapo puts 100 million bounty on donald tru...\n",
              "..                  ...  ...                                                ...\n",
              "208  642432477185867776  ...                  the stickers on fruit are edible \n",
              "209  693236688538243074  ...  is the truth out there in nod to thexfiles cia...\n",
              "210  504131150429061121  ...  breaking fbi uncovers new audio from neighbor ...\n",
              "211  692004901455556608  ...  potus just announced new reforms to address th...\n",
              "212  692157602554343424  ...  waiting for the new episode of teenwolf like url \n",
              "\n",
              "[213 rows x 3 columns]"
            ]
          },
          "metadata": {
            "tags": []
          },
          "execution_count": 36
        }
      ]
    },
    {
      "cell_type": "code",
      "metadata": {
        "id": "c9512KXtwWyx",
        "colab_type": "code",
        "colab": {
          "base_uri": "https://localhost:8080/",
          "height": 34
        },
        "outputId": "68c60720-6663-4132-be43-5028c59268d5"
      },
      "source": [
        "tokenizer = Tokenizer(num_words=vocab_size, oov_token=oov_tok)\n",
        "tokenizer.fit_on_texts(sample[\"clean_text\"])\n",
        "word_index = tokenizer.word_index\n",
        "\n",
        "test_sequences = tokenizer.texts_to_sequences(sample[\"clean_text\"])\n",
        "test_padded = pad_sequences(test_sequences, padding = padding_type, maxlen = max_length)\n",
        "test_padded.shape"
      ],
      "execution_count": null,
      "outputs": [
        {
          "output_type": "execute_result",
          "data": {
            "text/plain": [
              "(213, 256)"
            ]
          },
          "metadata": {
            "tags": []
          },
          "execution_count": 37
        }
      ]
    },
    {
      "cell_type": "code",
      "metadata": {
        "id": "gTZvyqswwl4s",
        "colab_type": "code",
        "colab": {
          "base_uri": "https://localhost:8080/",
          "height": 204
        },
        "outputId": "02e1d89e-3b41-4d31-c5f4-dd68cf9f5f5c"
      },
      "source": [
        "Y_pred = np.argmax(model.predict(test_padded), axis=-1)\n",
        "sample['label_id_pred'] = Y_pred\n",
        "sent_to_label = {0:\"false\", 1:\"non-rumor\", 2:\"true\", 3:\"unverified\"}\n",
        "sample[\"label_pred\"] = sample['label_id_pred'].map(sent_to_label)\n",
        "sample_sub = pd.DataFrame({'label':sample['label_pred'], 'id':sample['id']})\n",
        "sample_sub.to_csv('sample_submission_mateneuronas.csv', index=False)\n",
        "sample_sub.head()"
      ],
      "execution_count": null,
      "outputs": [
        {
          "output_type": "execute_result",
          "data": {
            "text/html": [
              "<div>\n",
              "<style scoped>\n",
              "    .dataframe tbody tr th:only-of-type {\n",
              "        vertical-align: middle;\n",
              "    }\n",
              "\n",
              "    .dataframe tbody tr th {\n",
              "        vertical-align: top;\n",
              "    }\n",
              "\n",
              "    .dataframe thead th {\n",
              "        text-align: right;\n",
              "    }\n",
              "</style>\n",
              "<table border=\"1\" class=\"dataframe\">\n",
              "  <thead>\n",
              "    <tr style=\"text-align: right;\">\n",
              "      <th></th>\n",
              "      <th>label</th>\n",
              "      <th>id</th>\n",
              "    </tr>\n",
              "  </thead>\n",
              "  <tbody>\n",
              "    <tr>\n",
              "      <th>0</th>\n",
              "      <td>false</td>\n",
              "      <td>689719109785907200</td>\n",
              "    </tr>\n",
              "    <tr>\n",
              "      <th>1</th>\n",
              "      <td>false</td>\n",
              "      <td>531300385248800768</td>\n",
              "    </tr>\n",
              "    <tr>\n",
              "      <th>2</th>\n",
              "      <td>false</td>\n",
              "      <td>652992524504600576</td>\n",
              "    </tr>\n",
              "    <tr>\n",
              "      <th>3</th>\n",
              "      <td>true</td>\n",
              "      <td>509473920060104704</td>\n",
              "    </tr>\n",
              "    <tr>\n",
              "      <th>4</th>\n",
              "      <td>false</td>\n",
              "      <td>651321040119963648</td>\n",
              "    </tr>\n",
              "  </tbody>\n",
              "</table>\n",
              "</div>"
            ],
            "text/plain": [
              "   label                  id\n",
              "0  false  689719109785907200\n",
              "1  false  531300385248800768\n",
              "2  false  652992524504600576\n",
              "3   true  509473920060104704\n",
              "4  false  651321040119963648"
            ]
          },
          "metadata": {
            "tags": []
          },
          "execution_count": 38
        }
      ]
    }
  ]
}